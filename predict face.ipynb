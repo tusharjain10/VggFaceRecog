{
 "cells": [
  {
   "cell_type": "code",
   "execution_count": null,
   "metadata": {},
   "outputs": [],
   "source": [
    "from keras.models import load_model\n",
    "import cv2\n",
    "import numpy as np"
   ]
  },
  {
   "cell_type": "code",
   "execution_count": null,
   "metadata": {},
   "outputs": [],
   "source": [
    "face = load_model('myvgg.h5')"
   ]
  },
  {
   "cell_type": "code",
   "execution_count": null,
   "metadata": {},
   "outputs": [],
   "source": [
    "cap = cv2.VideoCapture(0)"
   ]
  },
  {
   "cell_type": "code",
   "execution_count": null,
   "metadata": {},
   "outputs": [],
   "source": [
    "window_name = 'Image'\n",
    "font = cv2.FONT_HERSHEY_SIMPLEX \n",
    "org = (50, 50)\n",
    "fontScale = 1\n",
    "color = (255, 255, 255)\n",
    "thickness = 2\n",
    "shotNumber1 = 0\n",
    "shotNumber0 = 0\n",
    "while True:\n",
    "    status, img = cap.read()\n",
    "    dim = (224,224)\n",
    "    img1 = cv2.resize(img, dim, interpolation = cv2.INTER_AREA)\n",
    "    img1 = img1.reshape(1, 224, 224, 3)\n",
    "    person = face.predict(img1)\n",
    "    if person[0][0] ==  0:\n",
    "        img = cv2.putText(img, 'anima', org, font,  \n",
    "                   fontScale, color, thickness, cv2.LINE_AA)\n",
    "        save_name = \"data/anima\"+str(shotNumber0)+\".jpg\"\n",
    "        cv2.imwrite(save_name, img)\n",
    "        shotNumber +=1\n",
    "    elif person[0][0] ==  1:\n",
    "        img = cv2.putText(img, 'tushar', org, font,  \n",
    "                   fontScale, color, thickness, cv2.LINE_AA)\n",
    "        save_name = \"data/tushar\"+str(shotNumber1)+\".jpg\"\n",
    "        cv2.imwrite(save_name, img)\n",
    "        shotNumber +=1\n",
    "    cv2.imshow(window_name,img)\n",
    "    if cv2.waitKey(1) >= 0:\n",
    "        break\n",
    "cv2.destroyAllWindows()"
   ]
  },
  {
   "cell_type": "code",
   "execution_count": null,
   "metadata": {},
   "outputs": [],
   "source": []
  },
  {
   "cell_type": "code",
   "execution_count": null,
   "metadata": {},
   "outputs": [],
   "source": []
  },
  {
   "cell_type": "code",
   "execution_count": null,
   "metadata": {},
   "outputs": [],
   "source": []
  }
 ],
 "metadata": {
  "kernelspec": {
   "display_name": "Python 3",
   "language": "python",
   "name": "python3"
  },
  "language_info": {
   "codemirror_mode": {
    "name": "ipython",
    "version": 3
   },
   "file_extension": ".py",
   "mimetype": "text/x-python",
   "name": "python",
   "nbconvert_exporter": "python",
   "pygments_lexer": "ipython3",
   "version": "3.8.8"
  }
 },
 "nbformat": 4,
 "nbformat_minor": 4
}
